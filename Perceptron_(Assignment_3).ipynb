{
  "nbformat": 4,
  "nbformat_minor": 0,
  "metadata": {
    "colab": {
      "name": "Perceptron (Assignment 3).ipynb",
      "provenance": [],
      "collapsed_sections": [],
      "authorship_tag": "ABX9TyOqPlZm04mwp7i2d4SuZOIe",
      "include_colab_link": true
    },
    "kernelspec": {
      "name": "python3",
      "display_name": "Python 3"
    },
    "language_info": {
      "name": "python"
    }
  },
  "cells": [
    {
      "cell_type": "markdown",
      "metadata": {
        "id": "view-in-github",
        "colab_type": "text"
      },
      "source": [
        "<a href=\"https://colab.research.google.com/github/indrasn0wal/MLDLS2022/blob/main/Perceptron_(Assignment_3).ipynb\" target=\"_parent\"><img src=\"https://colab.research.google.com/assets/colab-badge.svg\" alt=\"Open In Colab\"/></a>"
      ]
    },
    {
      "cell_type": "markdown",
      "source": [
        "Here, we are going to implement the given Perceptron model using the data we used in univariate regression model in our first model."
      ],
      "metadata": {
        "id": "HKZVpCw4blVh"
      }
    },
    {
      "cell_type": "code",
      "source": [
        "#importing lib\n",
        "import tensorflow as tf\n",
        "import numpy as np\n",
        "from keras.models import Sequential\n",
        "from keras.layers import Dense\n",
        "from tensorflow import keras\n",
        "import matplotlib.pyplot as plt\n",
        "import pandas as pd"
      ],
      "metadata": {
        "id": "i3j3tYX6cv9F"
      },
      "execution_count": 32,
      "outputs": []
    },
    {
      "cell_type": "code",
      "source": [
        "from google.colab import files\n",
        "\n",
        "uploaded = files.upload()\n",
        "\n",
        "for fn in uploaded.keys():\n",
        "  print('User uploaded file \"{name}\" with length {length} bytes'.format(\n",
        "      name=fn, length=len(uploaded[fn])))"
      ],
      "metadata": {
        "colab": {
          "resources": {
            "http://localhost:8080/nbextensions/google.colab/files.js": {
              "data": "Ly8gQ29weXJpZ2h0IDIwMTcgR29vZ2xlIExMQwovLwovLyBMaWNlbnNlZCB1bmRlciB0aGUgQXBhY2hlIExpY2Vuc2UsIFZlcnNpb24gMi4wICh0aGUgIkxpY2Vuc2UiKTsKLy8geW91IG1heSBub3QgdXNlIHRoaXMgZmlsZSBleGNlcHQgaW4gY29tcGxpYW5jZSB3aXRoIHRoZSBMaWNlbnNlLgovLyBZb3UgbWF5IG9idGFpbiBhIGNvcHkgb2YgdGhlIExpY2Vuc2UgYXQKLy8KLy8gICAgICBodHRwOi8vd3d3LmFwYWNoZS5vcmcvbGljZW5zZXMvTElDRU5TRS0yLjAKLy8KLy8gVW5sZXNzIHJlcXVpcmVkIGJ5IGFwcGxpY2FibGUgbGF3IG9yIGFncmVlZCB0byBpbiB3cml0aW5nLCBzb2Z0d2FyZQovLyBkaXN0cmlidXRlZCB1bmRlciB0aGUgTGljZW5zZSBpcyBkaXN0cmlidXRlZCBvbiBhbiAiQVMgSVMiIEJBU0lTLAovLyBXSVRIT1VUIFdBUlJBTlRJRVMgT1IgQ09ORElUSU9OUyBPRiBBTlkgS0lORCwgZWl0aGVyIGV4cHJlc3Mgb3IgaW1wbGllZC4KLy8gU2VlIHRoZSBMaWNlbnNlIGZvciB0aGUgc3BlY2lmaWMgbGFuZ3VhZ2UgZ292ZXJuaW5nIHBlcm1pc3Npb25zIGFuZAovLyBsaW1pdGF0aW9ucyB1bmRlciB0aGUgTGljZW5zZS4KCi8qKgogKiBAZmlsZW92ZXJ2aWV3IEhlbHBlcnMgZm9yIGdvb2dsZS5jb2xhYiBQeXRob24gbW9kdWxlLgogKi8KKGZ1bmN0aW9uKHNjb3BlKSB7CmZ1bmN0aW9uIHNwYW4odGV4dCwgc3R5bGVBdHRyaWJ1dGVzID0ge30pIHsKICBjb25zdCBlbGVtZW50ID0gZG9jdW1lbnQuY3JlYXRlRWxlbWVudCgnc3BhbicpOwogIGVsZW1lbnQudGV4dENvbnRlbnQgPSB0ZXh0OwogIGZvciAoY29uc3Qga2V5IG9mIE9iamVjdC5rZXlzKHN0eWxlQXR0cmlidXRlcykpIHsKICAgIGVsZW1lbnQuc3R5bGVba2V5XSA9IHN0eWxlQXR0cmlidXRlc1trZXldOwogIH0KICByZXR1cm4gZWxlbWVudDsKfQoKLy8gTWF4IG51bWJlciBvZiBieXRlcyB3aGljaCB3aWxsIGJlIHVwbG9hZGVkIGF0IGEgdGltZS4KY29uc3QgTUFYX1BBWUxPQURfU0laRSA9IDEwMCAqIDEwMjQ7CgpmdW5jdGlvbiBfdXBsb2FkRmlsZXMoaW5wdXRJZCwgb3V0cHV0SWQpIHsKICBjb25zdCBzdGVwcyA9IHVwbG9hZEZpbGVzU3RlcChpbnB1dElkLCBvdXRwdXRJZCk7CiAgY29uc3Qgb3V0cHV0RWxlbWVudCA9IGRvY3VtZW50LmdldEVsZW1lbnRCeUlkKG91dHB1dElkKTsKICAvLyBDYWNoZSBzdGVwcyBvbiB0aGUgb3V0cHV0RWxlbWVudCB0byBtYWtlIGl0IGF2YWlsYWJsZSBmb3IgdGhlIG5leHQgY2FsbAogIC8vIHRvIHVwbG9hZEZpbGVzQ29udGludWUgZnJvbSBQeXRob24uCiAgb3V0cHV0RWxlbWVudC5zdGVwcyA9IHN0ZXBzOwoKICByZXR1cm4gX3VwbG9hZEZpbGVzQ29udGludWUob3V0cHV0SWQpOwp9CgovLyBUaGlzIGlzIHJvdWdobHkgYW4gYXN5bmMgZ2VuZXJhdG9yIChub3Qgc3VwcG9ydGVkIGluIHRoZSBicm93c2VyIHlldCksCi8vIHdoZXJlIHRoZXJlIGFyZSBtdWx0aXBsZSBhc3luY2hyb25vdXMgc3RlcHMgYW5kIHRoZSBQeXRob24gc2lkZSBpcyBnb2luZwovLyB0byBwb2xsIGZvciBjb21wbGV0aW9uIG9mIGVhY2ggc3RlcC4KLy8gVGhpcyB1c2VzIGEgUHJvbWlzZSB0byBibG9jayB0aGUgcHl0aG9uIHNpZGUgb24gY29tcGxldGlvbiBvZiBlYWNoIHN0ZXAsCi8vIHRoZW4gcGFzc2VzIHRoZSByZXN1bHQgb2YgdGhlIHByZXZpb3VzIHN0ZXAgYXMgdGhlIGlucHV0IHRvIHRoZSBuZXh0IHN0ZXAuCmZ1bmN0aW9uIF91cGxvYWRGaWxlc0NvbnRpbnVlKG91dHB1dElkKSB7CiAgY29uc3Qgb3V0cHV0RWxlbWVudCA9IGRvY3VtZW50LmdldEVsZW1lbnRCeUlkKG91dHB1dElkKTsKICBjb25zdCBzdGVwcyA9IG91dHB1dEVsZW1lbnQuc3RlcHM7CgogIGNvbnN0IG5leHQgPSBzdGVwcy5uZXh0KG91dHB1dEVsZW1lbnQubGFzdFByb21pc2VWYWx1ZSk7CiAgcmV0dXJuIFByb21pc2UucmVzb2x2ZShuZXh0LnZhbHVlLnByb21pc2UpLnRoZW4oKHZhbHVlKSA9PiB7CiAgICAvLyBDYWNoZSB0aGUgbGFzdCBwcm9taXNlIHZhbHVlIHRvIG1ha2UgaXQgYXZhaWxhYmxlIHRvIHRoZSBuZXh0CiAgICAvLyBzdGVwIG9mIHRoZSBnZW5lcmF0b3IuCiAgICBvdXRwdXRFbGVtZW50Lmxhc3RQcm9taXNlVmFsdWUgPSB2YWx1ZTsKICAgIHJldHVybiBuZXh0LnZhbHVlLnJlc3BvbnNlOwogIH0pOwp9CgovKioKICogR2VuZXJhdG9yIGZ1bmN0aW9uIHdoaWNoIGlzIGNhbGxlZCBiZXR3ZWVuIGVhY2ggYXN5bmMgc3RlcCBvZiB0aGUgdXBsb2FkCiAqIHByb2Nlc3MuCiAqIEBwYXJhbSB7c3RyaW5nfSBpbnB1dElkIEVsZW1lbnQgSUQgb2YgdGhlIGlucHV0IGZpbGUgcGlja2VyIGVsZW1lbnQuCiAqIEBwYXJhbSB7c3RyaW5nfSBvdXRwdXRJZCBFbGVtZW50IElEIG9mIHRoZSBvdXRwdXQgZGlzcGxheS4KICogQHJldHVybiB7IUl0ZXJhYmxlPCFPYmplY3Q+fSBJdGVyYWJsZSBvZiBuZXh0IHN0ZXBzLgogKi8KZnVuY3Rpb24qIHVwbG9hZEZpbGVzU3RlcChpbnB1dElkLCBvdXRwdXRJZCkgewogIGNvbnN0IGlucHV0RWxlbWVudCA9IGRvY3VtZW50LmdldEVsZW1lbnRCeUlkKGlucHV0SWQpOwogIGlucHV0RWxlbWVudC5kaXNhYmxlZCA9IGZhbHNlOwoKICBjb25zdCBvdXRwdXRFbGVtZW50ID0gZG9jdW1lbnQuZ2V0RWxlbWVudEJ5SWQob3V0cHV0SWQpOwogIG91dHB1dEVsZW1lbnQuaW5uZXJIVE1MID0gJyc7CgogIGNvbnN0IHBpY2tlZFByb21pc2UgPSBuZXcgUHJvbWlzZSgocmVzb2x2ZSkgPT4gewogICAgaW5wdXRFbGVtZW50LmFkZEV2ZW50TGlzdGVuZXIoJ2NoYW5nZScsIChlKSA9PiB7CiAgICAgIHJlc29sdmUoZS50YXJnZXQuZmlsZXMpOwogICAgfSk7CiAgfSk7CgogIGNvbnN0IGNhbmNlbCA9IGRvY3VtZW50LmNyZWF0ZUVsZW1lbnQoJ2J1dHRvbicpOwogIGlucHV0RWxlbWVudC5wYXJlbnRFbGVtZW50LmFwcGVuZENoaWxkKGNhbmNlbCk7CiAgY2FuY2VsLnRleHRDb250ZW50ID0gJ0NhbmNlbCB1cGxvYWQnOwogIGNvbnN0IGNhbmNlbFByb21pc2UgPSBuZXcgUHJvbWlzZSgocmVzb2x2ZSkgPT4gewogICAgY2FuY2VsLm9uY2xpY2sgPSAoKSA9PiB7CiAgICAgIHJlc29sdmUobnVsbCk7CiAgICB9OwogIH0pOwoKICAvLyBXYWl0IGZvciB0aGUgdXNlciB0byBwaWNrIHRoZSBmaWxlcy4KICBjb25zdCBmaWxlcyA9IHlpZWxkIHsKICAgIHByb21pc2U6IFByb21pc2UucmFjZShbcGlja2VkUHJvbWlzZSwgY2FuY2VsUHJvbWlzZV0pLAogICAgcmVzcG9uc2U6IHsKICAgICAgYWN0aW9uOiAnc3RhcnRpbmcnLAogICAgfQogIH07CgogIGNhbmNlbC5yZW1vdmUoKTsKCiAgLy8gRGlzYWJsZSB0aGUgaW5wdXQgZWxlbWVudCBzaW5jZSBmdXJ0aGVyIHBpY2tzIGFyZSBub3QgYWxsb3dlZC4KICBpbnB1dEVsZW1lbnQuZGlzYWJsZWQgPSB0cnVlOwoKICBpZiAoIWZpbGVzKSB7CiAgICByZXR1cm4gewogICAgICByZXNwb25zZTogewogICAgICAgIGFjdGlvbjogJ2NvbXBsZXRlJywKICAgICAgfQogICAgfTsKICB9CgogIGZvciAoY29uc3QgZmlsZSBvZiBmaWxlcykgewogICAgY29uc3QgbGkgPSBkb2N1bWVudC5jcmVhdGVFbGVtZW50KCdsaScpOwogICAgbGkuYXBwZW5kKHNwYW4oZmlsZS5uYW1lLCB7Zm9udFdlaWdodDogJ2JvbGQnfSkpOwogICAgbGkuYXBwZW5kKHNwYW4oCiAgICAgICAgYCgke2ZpbGUudHlwZSB8fCAnbi9hJ30pIC0gJHtmaWxlLnNpemV9IGJ5dGVzLCBgICsKICAgICAgICBgbGFzdCBtb2RpZmllZDogJHsKICAgICAgICAgICAgZmlsZS5sYXN0TW9kaWZpZWREYXRlID8gZmlsZS5sYXN0TW9kaWZpZWREYXRlLnRvTG9jYWxlRGF0ZVN0cmluZygpIDoKICAgICAgICAgICAgICAgICAgICAgICAgICAgICAgICAgICAgJ24vYSd9IC0gYCkpOwogICAgY29uc3QgcGVyY2VudCA9IHNwYW4oJzAlIGRvbmUnKTsKICAgIGxpLmFwcGVuZENoaWxkKHBlcmNlbnQpOwoKICAgIG91dHB1dEVsZW1lbnQuYXBwZW5kQ2hpbGQobGkpOwoKICAgIGNvbnN0IGZpbGVEYXRhUHJvbWlzZSA9IG5ldyBQcm9taXNlKChyZXNvbHZlKSA9PiB7CiAgICAgIGNvbnN0IHJlYWRlciA9IG5ldyBGaWxlUmVhZGVyKCk7CiAgICAgIHJlYWRlci5vbmxvYWQgPSAoZSkgPT4gewogICAgICAgIHJlc29sdmUoZS50YXJnZXQucmVzdWx0KTsKICAgICAgfTsKICAgICAgcmVhZGVyLnJlYWRBc0FycmF5QnVmZmVyKGZpbGUpOwogICAgfSk7CiAgICAvLyBXYWl0IGZvciB0aGUgZGF0YSB0byBiZSByZWFkeS4KICAgIGxldCBmaWxlRGF0YSA9IHlpZWxkIHsKICAgICAgcHJvbWlzZTogZmlsZURhdGFQcm9taXNlLAogICAgICByZXNwb25zZTogewogICAgICAgIGFjdGlvbjogJ2NvbnRpbnVlJywKICAgICAgfQogICAgfTsKCiAgICAvLyBVc2UgYSBjaHVua2VkIHNlbmRpbmcgdG8gYXZvaWQgbWVzc2FnZSBzaXplIGxpbWl0cy4gU2VlIGIvNjIxMTU2NjAuCiAgICBsZXQgcG9zaXRpb24gPSAwOwogICAgZG8gewogICAgICBjb25zdCBsZW5ndGggPSBNYXRoLm1pbihmaWxlRGF0YS5ieXRlTGVuZ3RoIC0gcG9zaXRpb24sIE1BWF9QQVlMT0FEX1NJWkUpOwogICAgICBjb25zdCBjaHVuayA9IG5ldyBVaW50OEFycmF5KGZpbGVEYXRhLCBwb3NpdGlvbiwgbGVuZ3RoKTsKICAgICAgcG9zaXRpb24gKz0gbGVuZ3RoOwoKICAgICAgY29uc3QgYmFzZTY0ID0gYnRvYShTdHJpbmcuZnJvbUNoYXJDb2RlLmFwcGx5KG51bGwsIGNodW5rKSk7CiAgICAgIHlpZWxkIHsKICAgICAgICByZXNwb25zZTogewogICAgICAgICAgYWN0aW9uOiAnYXBwZW5kJywKICAgICAgICAgIGZpbGU6IGZpbGUubmFtZSwKICAgICAgICAgIGRhdGE6IGJhc2U2NCwKICAgICAgICB9LAogICAgICB9OwoKICAgICAgbGV0IHBlcmNlbnREb25lID0gZmlsZURhdGEuYnl0ZUxlbmd0aCA9PT0gMCA/CiAgICAgICAgICAxMDAgOgogICAgICAgICAgTWF0aC5yb3VuZCgocG9zaXRpb24gLyBmaWxlRGF0YS5ieXRlTGVuZ3RoKSAqIDEwMCk7CiAgICAgIHBlcmNlbnQudGV4dENvbnRlbnQgPSBgJHtwZXJjZW50RG9uZX0lIGRvbmVgOwoKICAgIH0gd2hpbGUgKHBvc2l0aW9uIDwgZmlsZURhdGEuYnl0ZUxlbmd0aCk7CiAgfQoKICAvLyBBbGwgZG9uZS4KICB5aWVsZCB7CiAgICByZXNwb25zZTogewogICAgICBhY3Rpb246ICdjb21wbGV0ZScsCiAgICB9CiAgfTsKfQoKc2NvcGUuZ29vZ2xlID0gc2NvcGUuZ29vZ2xlIHx8IHt9OwpzY29wZS5nb29nbGUuY29sYWIgPSBzY29wZS5nb29nbGUuY29sYWIgfHwge307CnNjb3BlLmdvb2dsZS5jb2xhYi5fZmlsZXMgPSB7CiAgX3VwbG9hZEZpbGVzLAogIF91cGxvYWRGaWxlc0NvbnRpbnVlLAp9Owp9KShzZWxmKTsK",
              "ok": true,
              "headers": [
                [
                  "content-type",
                  "application/javascript"
                ]
              ],
              "status": 200,
              "status_text": ""
            }
          },
          "base_uri": "https://localhost:8080/",
          "height": 91
        },
        "id": "SFTkl6hJcwXF",
        "outputId": "cf16c364-0b48-4967-e263-484d13bf255d"
      },
      "execution_count": 33,
      "outputs": [
        {
          "output_type": "display_data",
          "data": {
            "text/plain": [
              "<IPython.core.display.HTML object>"
            ],
            "text/html": [
              "\n",
              "     <input type=\"file\" id=\"files-47e2ec6e-aff4-42a7-bd5e-a9e15aeabdf4\" name=\"files[]\" multiple disabled\n",
              "        style=\"border:none\" />\n",
              "     <output id=\"result-47e2ec6e-aff4-42a7-bd5e-a9e15aeabdf4\">\n",
              "      Upload widget is only available when the cell has been executed in the\n",
              "      current browser session. Please rerun this cell to enable.\n",
              "      </output>\n",
              "      <script src=\"/nbextensions/google.colab/files.js\"></script> "
            ]
          },
          "metadata": {}
        },
        {
          "output_type": "stream",
          "name": "stdout",
          "text": [
            "Saving HousingPrices-Amsterdam.csv to HousingPrices-Amsterdam (2).csv\n",
            "User uploaded file \"HousingPrices-Amsterdam.csv\" with length 9242 bytes\n"
          ]
        }
      ]
    },
    {
      "cell_type": "code",
      "source": [
        "df= pd.read_csv('HousingPrices-Amsterdam.csv')\n",
        "df.head()"
      ],
      "metadata": {
        "colab": {
          "base_uri": "https://localhost:8080/",
          "height": 206
        },
        "id": "goZIGmTXc1V8",
        "outputId": "a388c2ef-b901-429a-cedd-a29541e1faef"
      },
      "execution_count": 34,
      "outputs": [
        {
          "output_type": "execute_result",
          "data": {
            "text/plain": [
              "   Area     Price\n",
              "0    64  685000.0\n",
              "1    60  475000.0\n",
              "2   109  850000.0\n",
              "3   128  580000.0\n",
              "4   138  720000.0"
            ],
            "text/html": [
              "\n",
              "  <div id=\"df-3b057b90-e0f6-4821-b195-60d316835b3f\">\n",
              "    <div class=\"colab-df-container\">\n",
              "      <div>\n",
              "<style scoped>\n",
              "    .dataframe tbody tr th:only-of-type {\n",
              "        vertical-align: middle;\n",
              "    }\n",
              "\n",
              "    .dataframe tbody tr th {\n",
              "        vertical-align: top;\n",
              "    }\n",
              "\n",
              "    .dataframe thead th {\n",
              "        text-align: right;\n",
              "    }\n",
              "</style>\n",
              "<table border=\"1\" class=\"dataframe\">\n",
              "  <thead>\n",
              "    <tr style=\"text-align: right;\">\n",
              "      <th></th>\n",
              "      <th>Area</th>\n",
              "      <th>Price</th>\n",
              "    </tr>\n",
              "  </thead>\n",
              "  <tbody>\n",
              "    <tr>\n",
              "      <th>0</th>\n",
              "      <td>64</td>\n",
              "      <td>685000.0</td>\n",
              "    </tr>\n",
              "    <tr>\n",
              "      <th>1</th>\n",
              "      <td>60</td>\n",
              "      <td>475000.0</td>\n",
              "    </tr>\n",
              "    <tr>\n",
              "      <th>2</th>\n",
              "      <td>109</td>\n",
              "      <td>850000.0</td>\n",
              "    </tr>\n",
              "    <tr>\n",
              "      <th>3</th>\n",
              "      <td>128</td>\n",
              "      <td>580000.0</td>\n",
              "    </tr>\n",
              "    <tr>\n",
              "      <th>4</th>\n",
              "      <td>138</td>\n",
              "      <td>720000.0</td>\n",
              "    </tr>\n",
              "  </tbody>\n",
              "</table>\n",
              "</div>\n",
              "      <button class=\"colab-df-convert\" onclick=\"convertToInteractive('df-3b057b90-e0f6-4821-b195-60d316835b3f')\"\n",
              "              title=\"Convert this dataframe to an interactive table.\"\n",
              "              style=\"display:none;\">\n",
              "        \n",
              "  <svg xmlns=\"http://www.w3.org/2000/svg\" height=\"24px\"viewBox=\"0 0 24 24\"\n",
              "       width=\"24px\">\n",
              "    <path d=\"M0 0h24v24H0V0z\" fill=\"none\"/>\n",
              "    <path d=\"M18.56 5.44l.94 2.06.94-2.06 2.06-.94-2.06-.94-.94-2.06-.94 2.06-2.06.94zm-11 1L8.5 8.5l.94-2.06 2.06-.94-2.06-.94L8.5 2.5l-.94 2.06-2.06.94zm10 10l.94 2.06.94-2.06 2.06-.94-2.06-.94-.94-2.06-.94 2.06-2.06.94z\"/><path d=\"M17.41 7.96l-1.37-1.37c-.4-.4-.92-.59-1.43-.59-.52 0-1.04.2-1.43.59L10.3 9.45l-7.72 7.72c-.78.78-.78 2.05 0 2.83L4 21.41c.39.39.9.59 1.41.59.51 0 1.02-.2 1.41-.59l7.78-7.78 2.81-2.81c.8-.78.8-2.07 0-2.86zM5.41 20L4 18.59l7.72-7.72 1.47 1.35L5.41 20z\"/>\n",
              "  </svg>\n",
              "      </button>\n",
              "      \n",
              "  <style>\n",
              "    .colab-df-container {\n",
              "      display:flex;\n",
              "      flex-wrap:wrap;\n",
              "      gap: 12px;\n",
              "    }\n",
              "\n",
              "    .colab-df-convert {\n",
              "      background-color: #E8F0FE;\n",
              "      border: none;\n",
              "      border-radius: 50%;\n",
              "      cursor: pointer;\n",
              "      display: none;\n",
              "      fill: #1967D2;\n",
              "      height: 32px;\n",
              "      padding: 0 0 0 0;\n",
              "      width: 32px;\n",
              "    }\n",
              "\n",
              "    .colab-df-convert:hover {\n",
              "      background-color: #E2EBFA;\n",
              "      box-shadow: 0px 1px 2px rgba(60, 64, 67, 0.3), 0px 1px 3px 1px rgba(60, 64, 67, 0.15);\n",
              "      fill: #174EA6;\n",
              "    }\n",
              "\n",
              "    [theme=dark] .colab-df-convert {\n",
              "      background-color: #3B4455;\n",
              "      fill: #D2E3FC;\n",
              "    }\n",
              "\n",
              "    [theme=dark] .colab-df-convert:hover {\n",
              "      background-color: #434B5C;\n",
              "      box-shadow: 0px 1px 3px 1px rgba(0, 0, 0, 0.15);\n",
              "      filter: drop-shadow(0px 1px 2px rgba(0, 0, 0, 0.3));\n",
              "      fill: #FFFFFF;\n",
              "    }\n",
              "  </style>\n",
              "\n",
              "      <script>\n",
              "        const buttonEl =\n",
              "          document.querySelector('#df-3b057b90-e0f6-4821-b195-60d316835b3f button.colab-df-convert');\n",
              "        buttonEl.style.display =\n",
              "          google.colab.kernel.accessAllowed ? 'block' : 'none';\n",
              "\n",
              "        async function convertToInteractive(key) {\n",
              "          const element = document.querySelector('#df-3b057b90-e0f6-4821-b195-60d316835b3f');\n",
              "          const dataTable =\n",
              "            await google.colab.kernel.invokeFunction('convertToInteractive',\n",
              "                                                     [key], {});\n",
              "          if (!dataTable) return;\n",
              "\n",
              "          const docLinkHtml = 'Like what you see? Visit the ' +\n",
              "            '<a target=\"_blank\" href=https://colab.research.google.com/notebooks/data_table.ipynb>data table notebook</a>'\n",
              "            + ' to learn more about interactive tables.';\n",
              "          element.innerHTML = '';\n",
              "          dataTable['output_type'] = 'display_data';\n",
              "          await google.colab.output.renderOutput(dataTable, element);\n",
              "          const docLink = document.createElement('div');\n",
              "          docLink.innerHTML = docLinkHtml;\n",
              "          element.appendChild(docLink);\n",
              "        }\n",
              "      </script>\n",
              "    </div>\n",
              "  </div>\n",
              "  "
            ]
          },
          "metadata": {},
          "execution_count": 34
        }
      ]
    },
    {
      "cell_type": "code",
      "source": [
        "X = df.iloc[:,0].values\n",
        "Y = df.iloc[:,1].values"
      ],
      "metadata": {
        "id": "eINtQFnJc9rK"
      },
      "execution_count": 35,
      "outputs": []
    },
    {
      "cell_type": "code",
      "source": [
        "from sklearn.model_selection import train_test_split\n",
        "X_train, xs, y_train, ys = train_test_split(X, Y, test_size=0.2, random_state=42)"
      ],
      "metadata": {
        "id": "8anzqHDWd9cM"
      },
      "execution_count": 36,
      "outputs": []
    },
    {
      "cell_type": "code",
      "source": [
        "#defining a single layer; single neuron model\n",
        "model = tf.keras.Sequential([keras.layers.Dense(units=3, activation='relu', input_shape=[1])])\n",
        "model.add(Dense(1))\n",
        "print(model.summary())"
      ],
      "metadata": {
        "colab": {
          "base_uri": "https://localhost:8080/"
        },
        "id": "D-AKYoMwdR0N",
        "outputId": "6e00f5eb-bf1a-4b04-f0b1-1cef3a49d650"
      },
      "execution_count": 37,
      "outputs": [
        {
          "output_type": "stream",
          "name": "stdout",
          "text": [
            "Model: \"sequential_1\"\n",
            "_________________________________________________________________\n",
            " Layer (type)                Output Shape              Param #   \n",
            "=================================================================\n",
            " dense_2 (Dense)             (None, 3)                 6         \n",
            "                                                                 \n",
            " dense_3 (Dense)             (None, 1)                 4         \n",
            "                                                                 \n",
            "=================================================================\n",
            "Total params: 10\n",
            "Trainable params: 10\n",
            "Non-trainable params: 0\n",
            "_________________________________________________________________\n",
            "None\n"
          ]
        }
      ]
    },
    {
      "cell_type": "code",
      "source": [
        "tf.keras.utils.plot_model(\n",
        "    model,\n",
        "    to_file=\"model.png\",\n",
        "    show_shapes=True,\n",
        "    show_dtype=False,\n",
        "    show_layer_names=True,\n",
        "    rankdir=\"TB\",\n",
        "    expand_nested=False,\n",
        "    dpi=96,\n",
        ")"
      ],
      "metadata": {
        "colab": {
          "base_uri": "https://localhost:8080/",
          "height": 312
        },
        "id": "R8fVvm0AdWB6",
        "outputId": "4c6a7055-25e6-4835-f70f-a590b447d26b"
      },
      "execution_count": 38,
      "outputs": [
        {
          "output_type": "execute_result",
          "data": {
            "text/plain": [
              "<IPython.core.display.Image object>"
            ],
            "image/png": "[encoded data removed]"
          },
          "metadata": {},
          "execution_count": 38
        }
      ]
    },
    {
      "cell_type": "code",
      "source": [
        "#defining the model evaluation for backpropogation\n",
        "model.compile(optimizer='sgd', loss='mean_squared_error',metrics=['accuracy'])"
      ],
      "metadata": {
        "id": "1xWYdQscdY1A"
      },
      "execution_count": 50,
      "outputs": []
    },
    {
      "cell_type": "code",
      "source": [
        "#training the model with iterations (No. of front & back propogation)\n",
        "run_model = model.fit(X_train.reshape(-1,1),y_train.reshape(-1,1), epochs=100)"
      ],
      "metadata": {
        "id": "usha8oa4dbSp",
        "colab": {
          "base_uri": "https://localhost:8080/"
        },
        "outputId": "35b368de-beec-4215-9c17-8971fd95992f"
      },
      "execution_count": 54,
      "outputs": [
        {
          "output_type": "stream",
          "name": "stdout",
          "text": [
            "Epoch 1/100\n",
            "21/21 [==============================] - 0s 5ms/step - loss: 294962593792.0000 - accuracy: 0.0000e+00\n",
            "Epoch 2/100\n",
            "21/21 [==============================] - 0s 6ms/step - loss: 294999097344.0000 - accuracy: 0.0000e+00\n",
            "Epoch 3/100\n",
            "21/21 [==============================] - 0s 5ms/step - loss: 295054376960.0000 - accuracy: 0.0000e+00\n",
            "Epoch 4/100\n",
            "21/21 [==============================] - 0s 4ms/step - loss: 295013416960.0000 - accuracy: 0.0000e+00\n",
            "Epoch 5/100\n",
            "21/21 [==============================] - 0s 5ms/step - loss: 295023116288.0000 - accuracy: 0.0000e+00\n",
            "Epoch 6/100\n",
            "21/21 [==============================] - 0s 5ms/step - loss: 294987268096.0000 - accuracy: 0.0000e+00\n",
            "Epoch 7/100\n",
            "21/21 [==============================] - 0s 4ms/step - loss: 295028948992.0000 - accuracy: 0.0000e+00\n",
            "Epoch 8/100\n",
            "21/21 [==============================] - 0s 4ms/step - loss: 295714390016.0000 - accuracy: 0.0000e+00\n",
            "Epoch 9/100\n",
            "21/21 [==============================] - 0s 7ms/step - loss: 295497531392.0000 - accuracy: 0.0000e+00\n",
            "Epoch 10/100\n",
            "21/21 [==============================] - 0s 13ms/step - loss: 295286865920.0000 - accuracy: 0.0000e+00\n",
            "Epoch 11/100\n",
            "21/21 [==============================] - 0s 10ms/step - loss: 295080296448.0000 - accuracy: 0.0000e+00\n",
            "Epoch 12/100\n",
            "21/21 [==============================] - 0s 10ms/step - loss: 294999195648.0000 - accuracy: 0.0000e+00\n",
            "Epoch 13/100\n",
            "21/21 [==============================] - 0s 10ms/step - loss: 294995787776.0000 - accuracy: 0.0000e+00\n",
            "Epoch 14/100\n",
            "21/21 [==============================] - 0s 9ms/step - loss: 294992805888.0000 - accuracy: 0.0000e+00\n",
            "Epoch 15/100\n",
            "21/21 [==============================] - 0s 4ms/step - loss: 295014400000.0000 - accuracy: 0.0000e+00\n",
            "Epoch 16/100\n",
            "21/21 [==============================] - 0s 5ms/step - loss: 295130431488.0000 - accuracy: 0.0000e+00\n",
            "Epoch 17/100\n",
            "21/21 [==============================] - 0s 4ms/step - loss: 295062372352.0000 - accuracy: 0.0000e+00\n",
            "Epoch 18/100\n",
            "21/21 [==============================] - 0s 4ms/step - loss: 294995820544.0000 - accuracy: 0.0000e+00\n",
            "Epoch 19/100\n",
            "21/21 [==============================] - 0s 4ms/step - loss: 295067123712.0000 - accuracy: 0.0000e+00\n",
            "Epoch 20/100\n",
            "21/21 [==============================] - 0s 5ms/step - loss: 295460831232.0000 - accuracy: 0.0000e+00\n",
            "Epoch 21/100\n",
            "21/21 [==============================] - 0s 4ms/step - loss: 295141605376.0000 - accuracy: 0.0000e+00\n",
            "Epoch 22/100\n",
            "21/21 [==============================] - 0s 4ms/step - loss: 295125057536.0000 - accuracy: 0.0000e+00\n",
            "Epoch 23/100\n",
            "21/21 [==============================] - 0s 5ms/step - loss: 294980091904.0000 - accuracy: 0.0000e+00\n",
            "Epoch 24/100\n",
            "21/21 [==============================] - 0s 5ms/step - loss: 294994870272.0000 - accuracy: 0.0000e+00\n",
            "Epoch 25/100\n",
            "21/21 [==============================] - 0s 5ms/step - loss: 294955057152.0000 - accuracy: 0.0000e+00\n",
            "Epoch 26/100\n",
            "21/21 [==============================] - 0s 5ms/step - loss: 294954631168.0000 - accuracy: 0.0000e+00\n",
            "Epoch 27/100\n",
            "21/21 [==============================] - 0s 5ms/step - loss: 295118274560.0000 - accuracy: 0.0000e+00\n",
            "Epoch 28/100\n",
            "21/21 [==============================] - 0s 4ms/step - loss: 294958268416.0000 - accuracy: 0.0000e+00\n",
            "Epoch 29/100\n",
            "21/21 [==============================] - 0s 5ms/step - loss: 295052640256.0000 - accuracy: 0.0000e+00\n",
            "Epoch 30/100\n",
            "21/21 [==============================] - 0s 4ms/step - loss: 294987825152.0000 - accuracy: 0.0000e+00\n",
            "Epoch 31/100\n",
            "21/21 [==============================] - 0s 4ms/step - loss: 295157497856.0000 - accuracy: 0.0000e+00\n",
            "Epoch 32/100\n",
            "21/21 [==============================] - 0s 4ms/step - loss: 295085637632.0000 - accuracy: 0.0000e+00\n",
            "Epoch 33/100\n",
            "21/21 [==============================] - 0s 4ms/step - loss: 295073251328.0000 - accuracy: 0.0000e+00\n",
            "Epoch 34/100\n",
            "21/21 [==============================] - 0s 4ms/step - loss: 295055097856.0000 - accuracy: 0.0000e+00\n",
            "Epoch 35/100\n",
            "21/21 [==============================] - 0s 6ms/step - loss: 295098613760.0000 - accuracy: 0.0000e+00\n",
            "Epoch 36/100\n",
            "21/21 [==============================] - 0s 4ms/step - loss: 295007223808.0000 - accuracy: 0.0000e+00\n",
            "Epoch 37/100\n",
            "21/21 [==============================] - 0s 4ms/step - loss: 295026753536.0000 - accuracy: 0.0000e+00\n",
            "Epoch 38/100\n",
            "21/21 [==============================] - 0s 4ms/step - loss: 295017152512.0000 - accuracy: 0.0000e+00\n",
            "Epoch 39/100\n",
            "21/21 [==============================] - 0s 4ms/step - loss: 295114571776.0000 - accuracy: 0.0000e+00\n",
            "Epoch 40/100\n",
            "21/21 [==============================] - 0s 4ms/step - loss: 294945816576.0000 - accuracy: 0.0000e+00\n",
            "Epoch 41/100\n",
            "21/21 [==============================] - 0s 5ms/step - loss: 295009026048.0000 - accuracy: 0.0000e+00\n",
            "Epoch 42/100\n",
            "21/21 [==============================] - 0s 5ms/step - loss: 295010271232.0000 - accuracy: 0.0000e+00\n",
            "Epoch 43/100\n",
            "21/21 [==============================] - 0s 5ms/step - loss: 294978355200.0000 - accuracy: 0.0000e+00\n",
            "Epoch 44/100\n",
            "21/21 [==============================] - 0s 5ms/step - loss: 294975209472.0000 - accuracy: 0.0000e+00\n",
            "Epoch 45/100\n",
            "21/21 [==============================] - 0s 4ms/step - loss: 295021084672.0000 - accuracy: 0.0000e+00\n",
            "Epoch 46/100\n",
            "21/21 [==============================] - 0s 5ms/step - loss: 295074136064.0000 - accuracy: 0.0000e+00\n",
            "Epoch 47/100\n",
            "21/21 [==============================] - 0s 5ms/step - loss: 294955515904.0000 - accuracy: 0.0000e+00\n",
            "Epoch 48/100\n",
            "21/21 [==============================] - 0s 5ms/step - loss: 294989070336.0000 - accuracy: 0.0000e+00\n",
            "Epoch 49/100\n",
            "21/21 [==============================] - 0s 4ms/step - loss: 295217332224.0000 - accuracy: 0.0000e+00\n",
            "Epoch 50/100\n",
            "21/21 [==============================] - 0s 4ms/step - loss: 295288176640.0000 - accuracy: 0.0000e+00\n",
            "Epoch 51/100\n",
            "21/21 [==============================] - 0s 4ms/step - loss: 295089340416.0000 - accuracy: 0.0000e+00\n",
            "Epoch 52/100\n",
            "21/21 [==============================] - 0s 4ms/step - loss: 294992838656.0000 - accuracy: 0.0000e+00\n",
            "Epoch 53/100\n",
            "21/21 [==============================] - 0s 4ms/step - loss: 294958137344.0000 - accuracy: 0.0000e+00\n",
            "Epoch 54/100\n",
            "21/21 [==============================] - 0s 5ms/step - loss: 294962954240.0000 - accuracy: 0.0000e+00\n",
            "Epoch 55/100\n",
            "21/21 [==============================] - 0s 4ms/step - loss: 294974259200.0000 - accuracy: 0.0000e+00\n",
            "Epoch 56/100\n",
            "21/21 [==============================] - 0s 4ms/step - loss: 295061585920.0000 - accuracy: 0.0000e+00\n",
            "Epoch 57/100\n",
            "21/21 [==============================] - 0s 4ms/step - loss: 295058472960.0000 - accuracy: 0.0000e+00\n",
            "Epoch 58/100\n",
            "21/21 [==============================] - 0s 4ms/step - loss: 295032094720.0000 - accuracy: 0.0000e+00\n",
            "Epoch 59/100\n",
            "21/21 [==============================] - 0s 5ms/step - loss: 294941196288.0000 - accuracy: 0.0000e+00\n",
            "Epoch 60/100\n",
            "21/21 [==============================] - 0s 4ms/step - loss: 294969278464.0000 - accuracy: 0.0000e+00\n",
            "Epoch 61/100\n",
            "21/21 [==============================] - 0s 4ms/step - loss: 294999621632.0000 - accuracy: 0.0000e+00\n",
            "Epoch 62/100\n",
            "21/21 [==============================] - 0s 7ms/step - loss: 294998016000.0000 - accuracy: 0.0000e+00\n",
            "Epoch 63/100\n",
            "21/21 [==============================] - 0s 4ms/step - loss: 294986612736.0000 - accuracy: 0.0000e+00\n",
            "Epoch 64/100\n",
            "21/21 [==============================] - 0s 5ms/step - loss: 294941786112.0000 - accuracy: 0.0000e+00\n",
            "Epoch 65/100\n",
            "21/21 [==============================] - 0s 4ms/step - loss: 294988972032.0000 - accuracy: 0.0000e+00\n",
            "Epoch 66/100\n",
            "21/21 [==============================] - 0s 4ms/step - loss: 295053361152.0000 - accuracy: 0.0000e+00\n",
            "Epoch 67/100\n",
            "21/21 [==============================] - 0s 4ms/step - loss: 294985138176.0000 - accuracy: 0.0000e+00\n",
            "Epoch 68/100\n",
            "21/21 [==============================] - 0s 4ms/step - loss: 294932283392.0000 - accuracy: 0.0000e+00\n",
            "Epoch 69/100\n",
            "21/21 [==============================] - 0s 4ms/step - loss: 295011680256.0000 - accuracy: 0.0000e+00\n",
            "Epoch 70/100\n",
            "21/21 [==============================] - 0s 5ms/step - loss: 295073251328.0000 - accuracy: 0.0000e+00\n",
            "Epoch 71/100\n",
            "21/21 [==============================] - 0s 4ms/step - loss: 295033929728.0000 - accuracy: 0.0000e+00\n",
            "Epoch 72/100\n",
            "21/21 [==============================] - 0s 5ms/step - loss: 295018496000.0000 - accuracy: 0.0000e+00\n",
            "Epoch 73/100\n",
            "21/21 [==============================] - 0s 4ms/step - loss: 295149404160.0000 - accuracy: 0.0000e+00\n",
            "Epoch 74/100\n",
            "21/21 [==============================] - 0s 4ms/step - loss: 294973407232.0000 - accuracy: 0.0000e+00\n",
            "Epoch 75/100\n",
            "21/21 [==============================] - 0s 5ms/step - loss: 294959775744.0000 - accuracy: 0.0000e+00\n",
            "Epoch 76/100\n",
            "21/21 [==============================] - 0s 4ms/step - loss: 294987169792.0000 - accuracy: 0.0000e+00\n",
            "Epoch 77/100\n",
            "21/21 [==============================] - 0s 4ms/step - loss: 295011385344.0000 - accuracy: 0.0000e+00\n",
            "Epoch 78/100\n",
            "21/21 [==============================] - 0s 5ms/step - loss: 295056605184.0000 - accuracy: 0.0000e+00\n",
            "Epoch 79/100\n",
            "21/21 [==============================] - 0s 5ms/step - loss: 294962429952.0000 - accuracy: 0.0000e+00\n",
            "Epoch 80/100\n",
            "21/21 [==============================] - 0s 5ms/step - loss: 295041335296.0000 - accuracy: 0.0000e+00\n",
            "Epoch 81/100\n",
            "21/21 [==============================] - 0s 5ms/step - loss: 294997393408.0000 - accuracy: 0.0000e+00\n",
            "Epoch 82/100\n",
            "21/21 [==============================] - 0s 4ms/step - loss: 294948077568.0000 - accuracy: 0.0000e+00\n",
            "Epoch 83/100\n",
            "21/21 [==============================] - 0s 4ms/step - loss: 294997917696.0000 - accuracy: 0.0000e+00\n",
            "Epoch 84/100\n",
            "21/21 [==============================] - 0s 5ms/step - loss: 295087243264.0000 - accuracy: 0.0000e+00\n",
            "Epoch 85/100\n",
            "21/21 [==============================] - 0s 5ms/step - loss: 295052574720.0000 - accuracy: 0.0000e+00\n",
            "Epoch 86/100\n",
            "21/21 [==============================] - 0s 4ms/step - loss: 295021641728.0000 - accuracy: 0.0000e+00\n",
            "Epoch 87/100\n",
            "21/21 [==============================] - 0s 4ms/step - loss: 295016300544.0000 - accuracy: 0.0000e+00\n",
            "Epoch 88/100\n",
            "21/21 [==============================] - 0s 5ms/step - loss: 295003029504.0000 - accuracy: 0.0000e+00\n",
            "Epoch 89/100\n",
            "21/21 [==============================] - 0s 6ms/step - loss: 294991265792.0000 - accuracy: 0.0000e+00\n",
            "Epoch 90/100\n",
            "21/21 [==============================] - 0s 5ms/step - loss: 294929694720.0000 - accuracy: 0.0000e+00\n",
            "Epoch 91/100\n",
            "21/21 [==============================] - 0s 5ms/step - loss: 295151271936.0000 - accuracy: 0.0000e+00\n",
            "Epoch 92/100\n",
            "21/21 [==============================] - 0s 6ms/step - loss: 295181221888.0000 - accuracy: 0.0000e+00\n",
            "Epoch 93/100\n",
            "21/21 [==============================] - 0s 5ms/step - loss: 294992216064.0000 - accuracy: 0.0000e+00\n",
            "Epoch 94/100\n",
            "21/21 [==============================] - 0s 4ms/step - loss: 294964756480.0000 - accuracy: 0.0000e+00\n",
            "Epoch 95/100\n",
            "21/21 [==============================] - 0s 4ms/step - loss: 295015874560.0000 - accuracy: 0.0000e+00\n",
            "Epoch 96/100\n",
            "21/21 [==============================] - 0s 4ms/step - loss: 295116898304.0000 - accuracy: 0.0000e+00\n",
            "Epoch 97/100\n",
            "21/21 [==============================] - 0s 5ms/step - loss: 295053361152.0000 - accuracy: 0.0000e+00\n",
            "Epoch 98/100\n",
            "21/21 [==============================] - 0s 4ms/step - loss: 295020658688.0000 - accuracy: 0.0000e+00\n",
            "Epoch 99/100\n",
            "21/21 [==============================] - 0s 6ms/step - loss: 295023050752.0000 - accuracy: 0.0000e+00\n",
            "Epoch 100/100\n",
            "21/21 [==============================] - 0s 4ms/step - loss: 295262289920.0000 - accuracy: 0.0000e+00\n"
          ]
        }
      ]
    },
    {
      "cell_type": "code",
      "source": [
        "print(run_model.history.keys())"
      ],
      "metadata": {
        "colab": {
          "base_uri": "https://localhost:8080/"
        },
        "id": "Iuyy-1FfddoZ",
        "outputId": "14171829-e945-40a7-d973-d8450b185521"
      },
      "execution_count": 42,
      "outputs": [
        {
          "output_type": "stream",
          "name": "stdout",
          "text": [
            "dict_keys(['loss'])\n"
          ]
        }
      ]
    },
    {
      "cell_type": "code",
      "source": [
        "pred=model.predict(xs.reshape(-1,1))"
      ],
      "metadata": {
        "id": "MmfnJrfGdfI4"
      },
      "execution_count": 55,
      "outputs": []
    },
    {
      "cell_type": "code",
      "source": [
        "from sklearn.metrics import r2_score\n",
        "r2_score(ys,pred)"
      ],
      "metadata": {
        "colab": {
          "base_uri": "https://localhost:8080/"
        },
        "id": "vVyi0B8TrLNQ",
        "outputId": "2fa66441-6fea-499f-a148-a960673e1fec"
      },
      "execution_count": 56,
      "outputs": [
        {
          "output_type": "execute_result",
          "data": {
            "text/plain": [
              "-0.004664578758919902"
            ]
          },
          "metadata": {},
          "execution_count": 56
        }
      ]
    },
    {
      "cell_type": "code",
      "source": [
        "model.predict([[200]])"
      ],
      "metadata": {
        "colab": {
          "base_uri": "https://localhost:8080/"
        },
        "id": "kjo8hhOes00D",
        "outputId": "2575e84c-0270-401a-b261-2fa65f6ae810"
      },
      "execution_count": 59,
      "outputs": [
        {
          "output_type": "execute_result",
          "data": {
            "text/plain": [
              "array([[641350.8]], dtype=float32)"
            ]
          },
          "metadata": {},
          "execution_count": 59
        }
      ]
    },
    {
      "cell_type": "code",
      "source": [
        "# summarize history for accuracy\n",
        "plt.plot(run_model.history['loss'])\n",
        "plt.title('model loss')\n",
        "plt.ylabel('loss')\n",
        "plt.xlabel('epoch')\n",
        "plt.show()"
      ],
      "metadata": {
        "colab": {
          "base_uri": "https://localhost:8080/",
          "height": 295
        },
        "id": "n4muTQPqdxdK",
        "outputId": "c55b2e03-761a-4e41-ddbb-19591f5287e1"
      },
      "execution_count": 57,
      "outputs": [
        {
          "output_type": "display_data",
          "data": {
            "text/plain": [
              "<Figure size 432x288 with 1 Axes>"
            ],
            "image/png": "[encoded data removed]"
          },
          "metadata": {
            "needs_background": "light"
          }
        }
      ]
    }
  ]
}